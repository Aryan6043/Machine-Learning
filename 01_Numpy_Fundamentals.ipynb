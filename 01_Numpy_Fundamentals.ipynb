{
  "nbformat": 4,
  "nbformat_minor": 0,
  "metadata": {
    "colab": {
      "provenance": []
    },
    "kernelspec": {
      "name": "python3",
      "display_name": "Python 3"
    },
    "language_info": {
      "name": "python"
    }
  },
  "cells": [
    {
      "cell_type": "markdown",
      "source": [
        "# Numpy Fundamentals"
      ],
      "metadata": {
        "id": "9wUigPrjwR3g"
      }
    },
    {
      "cell_type": "markdown",
      "source": [
        "### What is numpy?\n",
        "\n",
        "1. **Core Object**: At its core, NumPy offers the `ndarray` object, which is a multi-dimensional array of homogeneous data types.\n",
        "2. **Purpose**: It is designed for scientific computing and numerical operations on large data arrays.\n",
        "3. **Functionality**:\n",
        "   - **Mathematical Operations**: Includes support for basic mathematical operations like addition, subtraction, multiplication, and division.\n",
        "   - **Linear Algebra**: Provides tools for basic linear algebra operations.\n",
        "   - **Statistical Tools**: Offers functions for basic statistical operations such as mean, median, variance, etc.\n",
        "   - **Fourier Transforms**: Includes capabilities to perform discrete Fourier transforms.\n",
        "   - **Random Number Generation**: Supports generating random numbers for simulations.\n",
        "4. **Performance**: Optimized for performance, utilizing internal optimizations and compiled code to accelerate operations."
      ],
      "metadata": {
        "id": "lFF783PD7ypT"
      }
    },
    {
      "cell_type": "markdown",
      "source": [
        "### Numpy Arrays Vs Python Sequences\n",
        "\n",
        "- NumPy arrays have a fixed size at creation, unlike Python lists (which can grow dynamically). Changing the size of an ndarray will create a new array and delete the original.\n",
        "\n",
        "- The elements in a NumPy array are all required to be of the same data type, and thus will be the same size in memory.\n",
        "\n",
        "- NumPy arrays facilitate advanced mathematical and other types of operations on large numbers of data. Typically, such operations are executed more efficiently and with less code than is possible using Python’s built-in sequences.\n",
        "\n",
        "- A growing plethora of scientific and mathematical Python-based packages are using NumPy arrays; though these typically support Python-sequence input, they convert such input to NumPy arrays prior to processing, and they often output NumPy arrays."
      ],
      "metadata": {
        "id": "HPRzhmwiZkOP"
      }
    },
    {
      "cell_type": "markdown",
      "source": [
        "### Creating Numpy Arrays"
      ],
      "metadata": {
        "id": "0PyrZ724szaG"
      }
    },
    {
      "cell_type": "code",
      "source": [
        "# np.array\n",
        "import numpy as np\n",
        "\n",
        "a = np.array([1,2,3])\n",
        "print(a, type(a))"
      ],
      "metadata": {
        "colab": {
          "base_uri": "https://localhost:8080/"
        },
        "id": "V4AVNXrts3sL",
        "outputId": "258a2a18-8d14-4ded-ccaa-16f278feeaec"
      },
      "execution_count": 7,
      "outputs": [
        {
          "output_type": "stream",
          "name": "stdout",
          "text": [
            "[1 2 3] <class 'numpy.ndarray'>\n"
          ]
        }
      ]
    },
    {
      "cell_type": "code",
      "source": [
        "# 2D and 3D\n",
        "b = np.array([[1,2,3],[4,5,6]])\n",
        "print(b)"
      ],
      "metadata": {
        "colab": {
          "base_uri": "https://localhost:8080/"
        },
        "id": "AAfxD1kCs6R5",
        "outputId": "228b0ea6-abdf-433a-ec72-4c0c15899407"
      },
      "execution_count": 5,
      "outputs": [
        {
          "output_type": "stream",
          "name": "stdout",
          "text": [
            "[[1 2 3]\n",
            " [4 5 6]]\n"
          ]
        }
      ]
    },
    {
      "cell_type": "code",
      "source": [
        "c = np.array([[[1,2],[3,4]],[[5,6],[7,8]]])\n",
        "print(c)"
      ],
      "metadata": {
        "id": "MyrHdd6J6CrF",
        "colab": {
          "base_uri": "https://localhost:8080/"
        },
        "outputId": "5e1a3d2a-b086-4592-f30b-225cc681599a"
      },
      "execution_count": 4,
      "outputs": [
        {
          "output_type": "stream",
          "name": "stdout",
          "text": [
            "[[[1 2]\n",
            "  [3 4]]\n",
            "\n",
            " [[5 6]\n",
            "  [7 8]]]\n"
          ]
        }
      ]
    },
    {
      "cell_type": "code",
      "source": [
        "# dtype\n",
        "np.array([1,2,3],dtype=float)"
      ],
      "metadata": {
        "id": "FM8AwUOdFqC7",
        "colab": {
          "base_uri": "https://localhost:8080/"
        },
        "outputId": "6da5fdb4-69b7-46d3-b469-0c42559507c5"
      },
      "execution_count": 11,
      "outputs": [
        {
          "output_type": "execute_result",
          "data": {
            "text/plain": [
              "array([1., 2., 3.])"
            ]
          },
          "metadata": {},
          "execution_count": 11
        }
      ]
    },
    {
      "cell_type": "code",
      "source": [
        "# np.arange\n",
        "np.arange(1,11,2)"
      ],
      "metadata": {
        "id": "ZY187Au_s8vm",
        "colab": {
          "base_uri": "https://localhost:8080/"
        },
        "outputId": "2fec4567-99a9-44f1-e25a-b6ae96b2c7ac"
      },
      "execution_count": 12,
      "outputs": [
        {
          "output_type": "execute_result",
          "data": {
            "text/plain": [
              "array([1, 3, 5, 7, 9])"
            ]
          },
          "metadata": {},
          "execution_count": 12
        }
      ]
    },
    {
      "cell_type": "code",
      "source": [
        "# with reshape\n",
        "np.arange(24).reshape(2, 4, 3)"
      ],
      "metadata": {
        "id": "3Gc7BaJZwl7e",
        "colab": {
          "base_uri": "https://localhost:8080/"
        },
        "outputId": "74ab86a4-35c2-4a32-8daa-2fa18187ac92"
      },
      "execution_count": 19,
      "outputs": [
        {
          "output_type": "execute_result",
          "data": {
            "text/plain": [
              "array([[[ 0,  1,  2],\n",
              "        [ 3,  4,  5],\n",
              "        [ 6,  7,  8],\n",
              "        [ 9, 10, 11]],\n",
              "\n",
              "       [[12, 13, 14],\n",
              "        [15, 16, 17],\n",
              "        [18, 19, 20],\n",
              "        [21, 22, 23]]])"
            ]
          },
          "metadata": {},
          "execution_count": 19
        }
      ]
    },
    {
      "cell_type": "code",
      "source": [
        "# np.ones and np.zeros\n",
        "np.ones((3,4))"
      ],
      "metadata": {
        "id": "R2BYpYcGs-9l",
        "colab": {
          "base_uri": "https://localhost:8080/"
        },
        "outputId": "a5bf21a1-7ddb-424a-a53c-d1606f3f486e"
      },
      "execution_count": 26,
      "outputs": [
        {
          "output_type": "execute_result",
          "data": {
            "text/plain": [
              "array([[1., 1., 1., 1.],\n",
              "       [1., 1., 1., 1.],\n",
              "       [1., 1., 1., 1.]])"
            ]
          },
          "metadata": {},
          "execution_count": 26
        }
      ]
    },
    {
      "cell_type": "code",
      "source": [
        "np.zeros((3,4))"
      ],
      "metadata": {
        "id": "vOjv_Euj8HGR",
        "colab": {
          "base_uri": "https://localhost:8080/"
        },
        "outputId": "533a68b0-b147-48ac-b0c7-f3cfe7c3d6ef"
      },
      "execution_count": 21,
      "outputs": [
        {
          "output_type": "execute_result",
          "data": {
            "text/plain": [
              "array([[0., 0., 0., 0.],\n",
              "       [0., 0., 0., 0.],\n",
              "       [0., 0., 0., 0.]])"
            ]
          },
          "metadata": {},
          "execution_count": 21
        }
      ]
    },
    {
      "cell_type": "code",
      "source": [
        "# np.random\n",
        "np.random.random((3,4))"
      ],
      "metadata": {
        "id": "fYEeYi7itCRM",
        "colab": {
          "base_uri": "https://localhost:8080/"
        },
        "outputId": "24756927-469f-4029-d153-b36a760b07d1"
      },
      "execution_count": 22,
      "outputs": [
        {
          "output_type": "execute_result",
          "data": {
            "text/plain": [
              "array([[0.31413829, 0.63119596, 0.80252768, 0.08138368],\n",
              "       [0.64982766, 0.13172394, 0.76413681, 0.43698619],\n",
              "       [0.84719081, 0.18434997, 0.77863783, 0.96849128]])"
            ]
          },
          "metadata": {},
          "execution_count": 22
        }
      ]
    },
    {
      "cell_type": "code",
      "source": [
        "# np.linspace\n",
        "np.linspace(0,100,11,dtype=float)"
      ],
      "metadata": {
        "id": "vel7WrgltE3P",
        "colab": {
          "base_uri": "https://localhost:8080/"
        },
        "outputId": "a17f66cc-c73e-47bc-cf38-9597bd4155e6"
      },
      "execution_count": 30,
      "outputs": [
        {
          "output_type": "execute_result",
          "data": {
            "text/plain": [
              "array([  0.,  10.,  20.,  30.,  40.,  50.,  60.,  70.,  80.,  90., 100.])"
            ]
          },
          "metadata": {},
          "execution_count": 30
        }
      ]
    },
    {
      "cell_type": "code",
      "source": [
        "# np.linspace\n",
        "np.linspace(0,100,10,dtype=float)"
      ],
      "metadata": {
        "colab": {
          "base_uri": "https://localhost:8080/"
        },
        "id": "LRqiL86_Afb7",
        "outputId": "8b552d89-9893-4338-e461-2713e266747d"
      },
      "execution_count": 33,
      "outputs": [
        {
          "output_type": "execute_result",
          "data": {
            "text/plain": [
              "array([  0.        ,  11.11111111,  22.22222222,  33.33333333,\n",
              "        44.44444444,  55.55555556,  66.66666667,  77.77777778,\n",
              "        88.88888889, 100.        ])"
            ]
          },
          "metadata": {},
          "execution_count": 33
        }
      ]
    },
    {
      "cell_type": "code",
      "source": [
        "# np.linspace\n",
        "np.linspace(0,100,10,dtype=int)"
      ],
      "metadata": {
        "colab": {
          "base_uri": "https://localhost:8080/"
        },
        "id": "toQQRAqaAT2g",
        "outputId": "f04652e3-c6f6-4402-e94a-4b0fe5cd3582"
      },
      "execution_count": 32,
      "outputs": [
        {
          "output_type": "execute_result",
          "data": {
            "text/plain": [
              "array([  0,  11,  22,  33,  44,  55,  66,  77,  88, 100])"
            ]
          },
          "metadata": {},
          "execution_count": 32
        }
      ]
    },
    {
      "cell_type": "code",
      "source": [
        "# np.identity\n",
        "np.identity(3)"
      ],
      "metadata": {
        "id": "ewyMuXh1tJzi",
        "colab": {
          "base_uri": "https://localhost:8080/"
        },
        "outputId": "070d5a05-e25a-4f33-ba25-5fd277aeec70"
      },
      "execution_count": 34,
      "outputs": [
        {
          "output_type": "execute_result",
          "data": {
            "text/plain": [
              "array([[1., 0., 0.],\n",
              "       [0., 1., 0.],\n",
              "       [0., 0., 1.]])"
            ]
          },
          "metadata": {},
          "execution_count": 34
        }
      ]
    },
    {
      "cell_type": "code",
      "source": [
        "# np.identity\n",
        "np.identity(4, dtype=int)"
      ],
      "metadata": {
        "colab": {
          "base_uri": "https://localhost:8080/"
        },
        "id": "NyQ4sg40Ay7P",
        "outputId": "96d0228d-90a7-422e-eda0-950d65f017b6"
      },
      "execution_count": 36,
      "outputs": [
        {
          "output_type": "execute_result",
          "data": {
            "text/plain": [
              "array([[1, 0, 0, 0],\n",
              "       [0, 1, 0, 0],\n",
              "       [0, 0, 1, 0],\n",
              "       [0, 0, 0, 1]])"
            ]
          },
          "metadata": {},
          "execution_count": 36
        }
      ]
    },
    {
      "cell_type": "markdown",
      "source": [
        "### Array Attributes"
      ],
      "metadata": {
        "id": "LphXpjZJtNyI"
      }
    },
    {
      "cell_type": "code",
      "source": [
        "a1 = np.arange(10,dtype=np.int32)\n",
        "a2 = np.arange(12,dtype=float).reshape(3,4)\n",
        "a3 = np.arange(24).reshape(2,4,3)"
      ],
      "metadata": {
        "id": "UXnB5dIEFOgD"
      },
      "execution_count": 41,
      "outputs": []
    },
    {
      "cell_type": "code",
      "source": [
        "a3"
      ],
      "metadata": {
        "colab": {
          "base_uri": "https://localhost:8080/"
        },
        "id": "AK9103XRBIcZ",
        "outputId": "441c944e-c9bf-4986-ae5b-38a545b52602"
      },
      "execution_count": 43,
      "outputs": [
        {
          "output_type": "execute_result",
          "data": {
            "text/plain": [
              "array([[[ 0,  1,  2],\n",
              "        [ 3,  4,  5],\n",
              "        [ 6,  7,  8],\n",
              "        [ 9, 10, 11]],\n",
              "\n",
              "       [[12, 13, 14],\n",
              "        [15, 16, 17],\n",
              "        [18, 19, 20],\n",
              "        [21, 22, 23]]])"
            ]
          },
          "metadata": {},
          "execution_count": 43
        }
      ]
    },
    {
      "cell_type": "code",
      "source": [
        "# ndim\n",
        "a3.ndim"
      ],
      "metadata": {
        "id": "qib4oDFptRKN",
        "colab": {
          "base_uri": "https://localhost:8080/"
        },
        "outputId": "19db5d2d-742e-4c72-aba9-1e3ce62e291f"
      },
      "execution_count": 44,
      "outputs": [
        {
          "output_type": "execute_result",
          "data": {
            "text/plain": [
              "3"
            ]
          },
          "metadata": {},
          "execution_count": 44
        }
      ]
    },
    {
      "cell_type": "code",
      "source": [
        "# shape\n",
        "print(a3.shape)\n",
        "a3"
      ],
      "metadata": {
        "id": "InUvH8KGtSRv",
        "colab": {
          "base_uri": "https://localhost:8080/"
        },
        "outputId": "c25133b7-93f2-4691-c470-d0556cc80e03"
      },
      "execution_count": 45,
      "outputs": [
        {
          "output_type": "stream",
          "name": "stdout",
          "text": [
            "(2, 4, 3)\n"
          ]
        },
        {
          "output_type": "execute_result",
          "data": {
            "text/plain": [
              "array([[[ 0,  1,  2],\n",
              "        [ 3,  4,  5],\n",
              "        [ 6,  7,  8],\n",
              "        [ 9, 10, 11]],\n",
              "\n",
              "       [[12, 13, 14],\n",
              "        [15, 16, 17],\n",
              "        [18, 19, 20],\n",
              "        [21, 22, 23]]])"
            ]
          },
          "metadata": {},
          "execution_count": 45
        }
      ]
    },
    {
      "cell_type": "code",
      "source": [
        " # size\n",
        "print(a2.size)\n",
        "a2"
      ],
      "metadata": {
        "id": "9Dko5610tT-Z",
        "colab": {
          "base_uri": "https://localhost:8080/"
        },
        "outputId": "53271964-766e-4d64-b620-f9d3a27fb0b3"
      },
      "execution_count": 46,
      "outputs": [
        {
          "output_type": "stream",
          "name": "stdout",
          "text": [
            "12\n"
          ]
        },
        {
          "output_type": "execute_result",
          "data": {
            "text/plain": [
              "array([[ 0.,  1.,  2.,  3.],\n",
              "       [ 4.,  5.,  6.,  7.],\n",
              "       [ 8.,  9., 10., 11.]])"
            ]
          },
          "metadata": {},
          "execution_count": 46
        }
      ]
    },
    {
      "cell_type": "code",
      "source": [
        "# itemsize\n",
        "a3.itemsize"
      ],
      "metadata": {
        "id": "wDFdHtH3tV1Z",
        "colab": {
          "base_uri": "https://localhost:8080/"
        },
        "outputId": "1992fb98-902d-4f87-de5b-0ff95de1d44f"
      },
      "execution_count": 47,
      "outputs": [
        {
          "output_type": "execute_result",
          "data": {
            "text/plain": [
              "8"
            ]
          },
          "metadata": {},
          "execution_count": 47
        }
      ]
    },
    {
      "cell_type": "code",
      "source": [
        "# dtype\n",
        "print(a1.dtype)\n",
        "print(a2.dtype)\n",
        "print(a3.dtype)"
      ],
      "metadata": {
        "id": "Pik7FgEVtXDj",
        "colab": {
          "base_uri": "https://localhost:8080/"
        },
        "outputId": "12e38e69-0c26-44e5-d6fe-3eefa220bf11"
      },
      "execution_count": 48,
      "outputs": [
        {
          "output_type": "stream",
          "name": "stdout",
          "text": [
            "int32\n",
            "float64\n",
            "int64\n"
          ]
        }
      ]
    },
    {
      "cell_type": "code",
      "source": [
        "a1.itemsize"
      ],
      "metadata": {
        "colab": {
          "base_uri": "https://localhost:8080/"
        },
        "id": "PxpqNDnOIKU-",
        "outputId": "e327b59b-6f0d-4fe5-accb-736e79afd1da"
      },
      "execution_count": 49,
      "outputs": [
        {
          "output_type": "execute_result",
          "data": {
            "text/plain": [
              "4"
            ]
          },
          "metadata": {},
          "execution_count": 49
        }
      ]
    },
    {
      "cell_type": "markdown",
      "source": [
        "### Changing Datatype"
      ],
      "metadata": {
        "id": "7Ase0eFWtcFl"
      }
    },
    {
      "cell_type": "code",
      "source": [
        "# astype\n",
        "a3.astype(np.int32)"
      ],
      "metadata": {
        "id": "DZPEFqhotbFS",
        "colab": {
          "base_uri": "https://localhost:8080/"
        },
        "outputId": "5927c21c-e393-4f1e-db6d-b346b97052e3"
      },
      "execution_count": 50,
      "outputs": [
        {
          "output_type": "execute_result",
          "data": {
            "text/plain": [
              "array([[[ 0,  1,  2],\n",
              "        [ 3,  4,  5],\n",
              "        [ 6,  7,  8],\n",
              "        [ 9, 10, 11]],\n",
              "\n",
              "       [[12, 13, 14],\n",
              "        [15, 16, 17],\n",
              "        [18, 19, 20],\n",
              "        [21, 22, 23]]], dtype=int32)"
            ]
          },
          "metadata": {},
          "execution_count": 50
        }
      ]
    },
    {
      "cell_type": "markdown",
      "source": [
        "### Array Operations"
      ],
      "metadata": {
        "id": "k-y-aaV9u52l"
      }
    },
    {
      "cell_type": "code",
      "source": [
        "a1 = np.arange(12).reshape(3,4)\n",
        "a2 = np.arange(12,24).reshape(3,4)\n",
        "\n",
        "a2"
      ],
      "metadata": {
        "id": "mIk8tk53HnOW",
        "colab": {
          "base_uri": "https://localhost:8080/"
        },
        "outputId": "d6ce61ee-f5ea-46f0-d071-ee4cccf5c0f3"
      },
      "execution_count": 51,
      "outputs": [
        {
          "output_type": "execute_result",
          "data": {
            "text/plain": [
              "array([[12, 13, 14, 15],\n",
              "       [16, 17, 18, 19],\n",
              "       [20, 21, 22, 23]])"
            ]
          },
          "metadata": {},
          "execution_count": 51
        }
      ]
    },
    {
      "cell_type": "code",
      "source": [
        "\"\"\" scalar operations \"\"\""
      ],
      "metadata": {
        "colab": {
          "base_uri": "https://localhost:8080/",
          "height": 37
        },
        "id": "wFFabizBIv1m",
        "outputId": "7022684c-6c01-4a75-f318-562b2fdf8eed"
      },
      "execution_count": 52,
      "outputs": [
        {
          "output_type": "execute_result",
          "data": {
            "text/plain": [
              "' scalar operations '"
            ],
            "application/vnd.google.colaboratory.intrinsic+json": {
              "type": "string"
            }
          },
          "metadata": {},
          "execution_count": 52
        }
      ]
    },
    {
      "cell_type": "code",
      "source": [
        "# arithmetic\n",
        "a1 ** 2"
      ],
      "metadata": {
        "id": "vtQrWQKD87Fn",
        "colab": {
          "base_uri": "https://localhost:8080/"
        },
        "outputId": "53027849-a70a-4453-d0ef-d835e88e916d"
      },
      "execution_count": 53,
      "outputs": [
        {
          "output_type": "execute_result",
          "data": {
            "text/plain": [
              "array([[  0,   1,   4,   9],\n",
              "       [ 16,  25,  36,  49],\n",
              "       [ 64,  81, 100, 121]])"
            ]
          },
          "metadata": {},
          "execution_count": 53
        }
      ]
    },
    {
      "cell_type": "code",
      "source": [
        "# relational\n",
        "a2 >= 15"
      ],
      "metadata": {
        "id": "mCgPxTzQrtte",
        "colab": {
          "base_uri": "https://localhost:8080/"
        },
        "outputId": "f381f429-693b-476a-8b0f-80dfc54d1c8a"
      },
      "execution_count": 56,
      "outputs": [
        {
          "output_type": "execute_result",
          "data": {
            "text/plain": [
              "array([[False, False, False,  True],\n",
              "       [ True,  True,  True,  True],\n",
              "       [ True,  True,  True,  True]])"
            ]
          },
          "metadata": {},
          "execution_count": 56
        }
      ]
    },
    {
      "cell_type": "code",
      "source": [
        "\"\"\" vector operations \"\"\""
      ],
      "metadata": {
        "colab": {
          "base_uri": "https://localhost:8080/",
          "height": 37
        },
        "id": "7eGGZxPQJN7k",
        "outputId": "40debb12-3818-499f-f472-6db196ecc42a"
      },
      "execution_count": 58,
      "outputs": [
        {
          "output_type": "execute_result",
          "data": {
            "text/plain": [
              "' vector operations '"
            ],
            "application/vnd.google.colaboratory.intrinsic+json": {
              "type": "string"
            }
          },
          "metadata": {},
          "execution_count": 58
        }
      ]
    },
    {
      "cell_type": "code",
      "source": [
        "# arithmetic\n",
        "a1 * a2"
      ],
      "metadata": {
        "id": "E2S3xDRxrt5D",
        "colab": {
          "base_uri": "https://localhost:8080/"
        },
        "outputId": "ca1e947e-f074-4fd5-b43b-70c0bdbf6336"
      },
      "execution_count": 59,
      "outputs": [
        {
          "output_type": "execute_result",
          "data": {
            "text/plain": [
              "array([[  0,  13,  28,  45],\n",
              "       [ 64,  85, 108, 133],\n",
              "       [160, 189, 220, 253]])"
            ]
          },
          "metadata": {},
          "execution_count": 59
        }
      ]
    },
    {
      "cell_type": "markdown",
      "source": [
        "### Array Functions"
      ],
      "metadata": {
        "id": "AQZgntYTu8ot"
      }
    },
    {
      "cell_type": "code",
      "source": [
        "a1 = np.random.random((3,3))\n",
        "print(a1)\n",
        "a1 = np.round(a1*100)\n",
        "a1"
      ],
      "metadata": {
        "id": "CHUj0a_dIP4F",
        "colab": {
          "base_uri": "https://localhost:8080/"
        },
        "outputId": "5604c96a-9624-44f0-9c2d-b130a649feca"
      },
      "execution_count": 60,
      "outputs": [
        {
          "output_type": "stream",
          "name": "stdout",
          "text": [
            "[[0.7604058  0.85441694 0.90868501]\n",
            " [0.11789567 0.11663732 0.93930357]\n",
            " [0.88822123 0.30362702 0.69673432]]\n"
          ]
        },
        {
          "output_type": "execute_result",
          "data": {
            "text/plain": [
              "array([[76., 85., 91.],\n",
              "       [12., 12., 94.],\n",
              "       [89., 30., 70.]])"
            ]
          },
          "metadata": {},
          "execution_count": 60
        }
      ]
    },
    {
      "cell_type": "code",
      "source": [
        "np.sum(a1), np.max(a1), np.min(a1), np.mean(a1)"
      ],
      "metadata": {
        "colab": {
          "base_uri": "https://localhost:8080/"
        },
        "id": "8mssSuP2JmKm",
        "outputId": "a106a0c8-dfaa-49dd-9aca-05736309e1ce"
      },
      "execution_count": 62,
      "outputs": [
        {
          "output_type": "execute_result",
          "data": {
            "text/plain": [
              "(559.0, 94.0, 12.0, 62.111111111111114)"
            ]
          },
          "metadata": {},
          "execution_count": 62
        }
      ]
    },
    {
      "cell_type": "code",
      "source": [
        "# max/min/sum/prod\n",
        "# 0 -> col and 1 -> row"
      ],
      "metadata": {
        "id": "dNAFSRgzJ7M2"
      },
      "execution_count": 63,
      "outputs": []
    },
    {
      "cell_type": "code",
      "source": [
        "np.max(a1, axis=0),np.min(a1, axis=0)"
      ],
      "metadata": {
        "colab": {
          "base_uri": "https://localhost:8080/"
        },
        "id": "Tf0yog7CKBbf",
        "outputId": "f4e0ec5f-c3e9-433d-a776-8b14d7e6ef27"
      },
      "execution_count": 67,
      "outputs": [
        {
          "output_type": "execute_result",
          "data": {
            "text/plain": [
              "(array([89., 85., 94.]), array([12., 12., 70.]))"
            ]
          },
          "metadata": {},
          "execution_count": 67
        }
      ]
    },
    {
      "cell_type": "code",
      "source": [
        "np.max(a1, axis=1),np.min(a1, axis=1)"
      ],
      "metadata": {
        "colab": {
          "base_uri": "https://localhost:8080/"
        },
        "id": "igcqGQnGKSFh",
        "outputId": "880084f7-4847-4b60-a801-0015c1338692"
      },
      "execution_count": 68,
      "outputs": [
        {
          "output_type": "execute_result",
          "data": {
            "text/plain": [
              "(array([91., 94., 89.]), array([76., 12., 30.]))"
            ]
          },
          "metadata": {},
          "execution_count": 68
        }
      ]
    },
    {
      "cell_type": "code",
      "source": [
        "np.prod(a1,axis=0)"
      ],
      "metadata": {
        "id": "J1EWNET29Urx",
        "colab": {
          "base_uri": "https://localhost:8080/"
        },
        "outputId": "9e1b1d0e-cb06-4557-e22b-90bcd8e33dd2"
      },
      "execution_count": 69,
      "outputs": [
        {
          "output_type": "execute_result",
          "data": {
            "text/plain": [
              "array([ 81168.,  30600., 598780.])"
            ]
          },
          "metadata": {},
          "execution_count": 69
        }
      ]
    },
    {
      "cell_type": "code",
      "source": [
        "np.mean(a1)"
      ],
      "metadata": {
        "colab": {
          "base_uri": "https://localhost:8080/"
        },
        "id": "7tTddhEPKkN6",
        "outputId": "18a534f4-b5cd-41b4-e537-4eead6491257"
      },
      "execution_count": 70,
      "outputs": [
        {
          "output_type": "execute_result",
          "data": {
            "text/plain": [
              "62.111111111111114"
            ]
          },
          "metadata": {},
          "execution_count": 70
        }
      ]
    },
    {
      "cell_type": "code",
      "source": [
        "# mean/median/std/var\n",
        "np.var(a1,axis=1)"
      ],
      "metadata": {
        "id": "JAlMLFkds9KC",
        "colab": {
          "base_uri": "https://localhost:8080/"
        },
        "outputId": "cebb3c4f-313b-448a-fab9-ff0b3ef66a4a"
      },
      "execution_count": 72,
      "outputs": [
        {
          "output_type": "execute_result",
          "data": {
            "text/plain": [
              "array([  38.        , 1494.22222222,  604.66666667])"
            ]
          },
          "metadata": {},
          "execution_count": 72
        }
      ]
    },
    {
      "cell_type": "code",
      "source": [
        "# trigonomoetric functions\n",
        "np.sin(a1)"
      ],
      "metadata": {
        "id": "vwLoQQVqs-m-",
        "colab": {
          "base_uri": "https://localhost:8080/"
        },
        "outputId": "1c426290-2c10-47a5-e7cc-ee386f2a4809"
      },
      "execution_count": 71,
      "outputs": [
        {
          "output_type": "execute_result",
          "data": {
            "text/plain": [
              "array([[ 0.56610764, -0.17607562,  0.10598751],\n",
              "       [-0.53657292, -0.53657292, -0.24525199],\n",
              "       [ 0.86006941, -0.98803162,  0.77389068]])"
            ]
          },
          "metadata": {},
          "execution_count": 71
        }
      ]
    },
    {
      "cell_type": "code",
      "source": [
        "# dot product\n",
        "a2 = np.arange(12).reshape(3,4)\n",
        "a3 = np.arange(12,24).reshape(4,3)\n",
        "\n",
        "np.dot(a2,a3)"
      ],
      "metadata": {
        "id": "RoEtYuiytFm1",
        "colab": {
          "base_uri": "https://localhost:8080/"
        },
        "outputId": "8203dcc2-c4db-4df5-f040-c6b7410136e6"
      },
      "execution_count": 73,
      "outputs": [
        {
          "output_type": "execute_result",
          "data": {
            "text/plain": [
              "array([[114, 120, 126],\n",
              "       [378, 400, 422],\n",
              "       [642, 680, 718]])"
            ]
          },
          "metadata": {},
          "execution_count": 73
        }
      ]
    },
    {
      "cell_type": "code",
      "source": [
        "# log and exponents\n",
        "np.exp(a1), np.log(a1)"
      ],
      "metadata": {
        "id": "qd7GmrgEtH6i",
        "colab": {
          "base_uri": "https://localhost:8080/"
        },
        "outputId": "6d38bb76-5071-4707-a910-9c6645933bda"
      },
      "execution_count": 75,
      "outputs": [
        {
          "output_type": "execute_result",
          "data": {
            "text/plain": [
              "(array([[1.01480039e+33, 8.22301271e+36, 3.31740010e+39],\n",
              "        [1.62754791e+05, 1.62754791e+05, 6.66317622e+40],\n",
              "        [4.48961282e+38, 1.06864746e+13, 2.51543867e+30]]),\n",
              " array([[4.33073334, 4.44265126, 4.51085951],\n",
              "        [2.48490665, 2.48490665, 4.54329478],\n",
              "        [4.48863637, 3.40119738, 4.24849524]]))"
            ]
          },
          "metadata": {},
          "execution_count": 75
        }
      ]
    },
    {
      "cell_type": "code",
      "source": [
        "# round/floor/ceil\n",
        "mat = np.random.random((2,3))*100\n",
        "mat, np.ceil(mat), np.floor(mat), np.round(mat)"
      ],
      "metadata": {
        "id": "EOXnVCZhtKk1",
        "colab": {
          "base_uri": "https://localhost:8080/"
        },
        "outputId": "201f92e6-fba0-474b-a64c-6c654db2c1ba"
      },
      "execution_count": 76,
      "outputs": [
        {
          "output_type": "execute_result",
          "data": {
            "text/plain": [
              "(array([[ 9.8551977 , 85.89948508, 21.14965802],\n",
              "        [67.60821418, 93.31498723, 67.53235069]]),\n",
              " array([[10., 86., 22.],\n",
              "        [68., 94., 68.]]),\n",
              " array([[ 9., 85., 21.],\n",
              "        [67., 93., 67.]]),\n",
              " array([[10., 86., 21.],\n",
              "        [68., 93., 68.]]))"
            ]
          },
          "metadata": {},
          "execution_count": 76
        }
      ]
    },
    {
      "cell_type": "markdown",
      "source": [
        "### Indexing and Slicing"
      ],
      "metadata": {
        "id": "2pYZJMrAuvuv"
      }
    },
    {
      "cell_type": "code",
      "source": [
        "a1 = np.arange(10)\n",
        "a2 = np.arange(12).reshape(3,4)\n",
        "a3 = np.arange(60).reshape(3,4,5)\n",
        "\n",
        "a1, a2, a3"
      ],
      "metadata": {
        "id": "v1LynzX9u2R-",
        "colab": {
          "base_uri": "https://localhost:8080/"
        },
        "outputId": "aad3e02f-cc23-4987-ab9a-669bfbf2cf85"
      },
      "execution_count": 116,
      "outputs": [
        {
          "output_type": "execute_result",
          "data": {
            "text/plain": [
              "(array([0, 1, 2, 3, 4, 5, 6, 7, 8, 9]),\n",
              " array([[ 0,  1,  2,  3],\n",
              "        [ 4,  5,  6,  7],\n",
              "        [ 8,  9, 10, 11]]),\n",
              " array([[[ 0,  1,  2,  3,  4],\n",
              "         [ 5,  6,  7,  8,  9],\n",
              "         [10, 11, 12, 13, 14],\n",
              "         [15, 16, 17, 18, 19]],\n",
              " \n",
              "        [[20, 21, 22, 23, 24],\n",
              "         [25, 26, 27, 28, 29],\n",
              "         [30, 31, 32, 33, 34],\n",
              "         [35, 36, 37, 38, 39]],\n",
              " \n",
              "        [[40, 41, 42, 43, 44],\n",
              "         [45, 46, 47, 48, 49],\n",
              "         [50, 51, 52, 53, 54],\n",
              "         [55, 56, 57, 58, 59]]]))"
            ]
          },
          "metadata": {},
          "execution_count": 116
        }
      ]
    },
    {
      "cell_type": "code",
      "source": [
        "a1[0], a1[-1]"
      ],
      "metadata": {
        "colab": {
          "base_uri": "https://localhost:8080/"
        },
        "id": "DWF1II32Lmdu",
        "outputId": "fac7e652-1e08-499a-fb42-ef4e8c3b32d2"
      },
      "execution_count": 80,
      "outputs": [
        {
          "output_type": "execute_result",
          "data": {
            "text/plain": [
              "(0, 9)"
            ]
          },
          "metadata": {},
          "execution_count": 80
        }
      ]
    },
    {
      "cell_type": "code",
      "source": [
        "a2[1][1], a2[1][-3], a2[-2][-3], a2[1, 1], a2[1, -3], a2[-2, -3]"
      ],
      "metadata": {
        "colab": {
          "base_uri": "https://localhost:8080/"
        },
        "id": "C7iU_hZ-LmwX",
        "outputId": "5e1a8fcc-7f1e-4c96-d6ec-2fe296834b84"
      },
      "execution_count": 87,
      "outputs": [
        {
          "output_type": "execute_result",
          "data": {
            "text/plain": [
              "(5, 5, 5, 5, 5, 5)"
            ]
          },
          "metadata": {},
          "execution_count": 87
        }
      ]
    },
    {
      "cell_type": "code",
      "source": [
        "a3"
      ],
      "metadata": {
        "colab": {
          "base_uri": "https://localhost:8080/"
        },
        "id": "KzaMx5XKLm6z",
        "outputId": "cff78963-70d8-4c23-a58f-e8ebb9833dfa"
      },
      "execution_count": 88,
      "outputs": [
        {
          "output_type": "execute_result",
          "data": {
            "text/plain": [
              "array([[[ 0,  1,  2],\n",
              "        [ 3,  4,  5],\n",
              "        [ 6,  7,  8],\n",
              "        [ 9, 10, 11]],\n",
              "\n",
              "       [[12, 13, 14],\n",
              "        [15, 16, 17],\n",
              "        [18, 19, 20],\n",
              "        [21, 22, 23]]])"
            ]
          },
          "metadata": {},
          "execution_count": 88
        }
      ]
    },
    {
      "cell_type": "code",
      "source": [
        "a3[0, 2, 1], a3[0][2][1]"
      ],
      "metadata": {
        "colab": {
          "base_uri": "https://localhost:8080/"
        },
        "id": "W6HI1n-mLnAX",
        "outputId": "e3cce789-6b74-4602-a056-d24db8184641"
      },
      "execution_count": 92,
      "outputs": [
        {
          "output_type": "execute_result",
          "data": {
            "text/plain": [
              "(7, 7)"
            ]
          },
          "metadata": {},
          "execution_count": 92
        }
      ]
    },
    {
      "cell_type": "code",
      "source": [
        "a3[0,0,0], a3[-2, -4, -3]"
      ],
      "metadata": {
        "colab": {
          "base_uri": "https://localhost:8080/"
        },
        "id": "ilwaQHoBLnEA",
        "outputId": "104e9b12-5c94-475c-c5e9-7db0ce22d969"
      },
      "execution_count": 94,
      "outputs": [
        {
          "output_type": "execute_result",
          "data": {
            "text/plain": [
              "(0, 0)"
            ]
          },
          "metadata": {},
          "execution_count": 94
        }
      ]
    },
    {
      "cell_type": "code",
      "source": [
        "a1, a1[2:5], a1[2:5:2]"
      ],
      "metadata": {
        "colab": {
          "base_uri": "https://localhost:8080/"
        },
        "id": "9ZKF6KKALnH3",
        "outputId": "84f1714c-67b7-4770-e434-8e792c9c8a1e"
      },
      "execution_count": 96,
      "outputs": [
        {
          "output_type": "execute_result",
          "data": {
            "text/plain": [
              "(array([0, 1, 2, 3, 4, 5, 6, 7, 8, 9]), array([2, 3, 4]), array([2, 4]))"
            ]
          },
          "metadata": {},
          "execution_count": 96
        }
      ]
    },
    {
      "cell_type": "code",
      "source": [
        "a2, a2[0, :], a2[:, 2]"
      ],
      "metadata": {
        "colab": {
          "base_uri": "https://localhost:8080/"
        },
        "id": "fI7jJfL6LnLh",
        "outputId": "fe92c2b6-8647-4b5e-9566-ada600e63fe4"
      },
      "execution_count": 99,
      "outputs": [
        {
          "output_type": "execute_result",
          "data": {
            "text/plain": [
              "(array([[ 0,  1,  2,  3],\n",
              "        [ 4,  5,  6,  7],\n",
              "        [ 8,  9, 10, 11]]),\n",
              " array([0, 1, 2, 3]),\n",
              " array([ 2,  6, 10]))"
            ]
          },
          "metadata": {},
          "execution_count": 99
        }
      ]
    },
    {
      "cell_type": "code",
      "source": [
        "a2[1:, 1:3]"
      ],
      "metadata": {
        "colab": {
          "base_uri": "https://localhost:8080/"
        },
        "id": "t2XSp5U4LnOt",
        "outputId": "a7a6a923-d005-4234-f526-7ceda566546e"
      },
      "execution_count": 100,
      "outputs": [
        {
          "output_type": "execute_result",
          "data": {
            "text/plain": [
              "array([[ 5,  6],\n",
              "       [ 9, 10]])"
            ]
          },
          "metadata": {},
          "execution_count": 100
        }
      ]
    },
    {
      "cell_type": "code",
      "source": [
        "# All four corner elements of a2\n",
        "a2[0::2, 0::3]\n",
        "a2[::2, ::3]"
      ],
      "metadata": {
        "colab": {
          "base_uri": "https://localhost:8080/"
        },
        "id": "VdzEVsk2LnRw",
        "outputId": "1166f453-8009-4ba8-d962-9778be22c599"
      },
      "execution_count": 105,
      "outputs": [
        {
          "output_type": "execute_result",
          "data": {
            "text/plain": [
              "array([[ 0,  3],\n",
              "       [ 8, 11]])"
            ]
          },
          "metadata": {},
          "execution_count": 105
        }
      ]
    },
    {
      "cell_type": "code",
      "source": [
        "a2[0::2, 1::2]"
      ],
      "metadata": {
        "colab": {
          "base_uri": "https://localhost:8080/"
        },
        "id": "uIruLDZ_LnVM",
        "outputId": "01c95ca5-7f43-4e9d-b08d-c771b0a7c752"
      },
      "execution_count": 106,
      "outputs": [
        {
          "output_type": "execute_result",
          "data": {
            "text/plain": [
              "array([[ 1,  3],\n",
              "       [ 9, 11]])"
            ]
          },
          "metadata": {},
          "execution_count": 106
        }
      ]
    },
    {
      "cell_type": "code",
      "source": [
        "a2[1, 0::3]"
      ],
      "metadata": {
        "colab": {
          "base_uri": "https://localhost:8080/"
        },
        "id": "uzlexC-aLnrz",
        "outputId": "972101aa-7b53-4d55-8706-91c8f2af0e02"
      },
      "execution_count": 107,
      "outputs": [
        {
          "output_type": "execute_result",
          "data": {
            "text/plain": [
              "array([4, 7])"
            ]
          },
          "metadata": {},
          "execution_count": 107
        }
      ]
    },
    {
      "cell_type": "code",
      "source": [
        "a3"
      ],
      "metadata": {
        "colab": {
          "base_uri": "https://localhost:8080/"
        },
        "id": "ZLev-Y1dLnvg",
        "outputId": "472aa84b-c396-4cea-8662-c91ef4f27b71"
      },
      "execution_count": 119,
      "outputs": [
        {
          "output_type": "execute_result",
          "data": {
            "text/plain": [
              "array([[[ 0,  1,  2,  3,  4],\n",
              "        [ 5,  6,  7,  8,  9],\n",
              "        [10, 11, 12, 13, 14],\n",
              "        [15, 16, 17, 18, 19]],\n",
              "\n",
              "       [[20, 21, 22, 23, 24],\n",
              "        [25, 26, 27, 28, 29],\n",
              "        [30, 31, 32, 33, 34],\n",
              "        [35, 36, 37, 38, 39]],\n",
              "\n",
              "       [[40, 41, 42, 43, 44],\n",
              "        [45, 46, 47, 48, 49],\n",
              "        [50, 51, 52, 53, 54],\n",
              "        [55, 56, 57, 58, 59]]])"
            ]
          },
          "metadata": {},
          "execution_count": 119
        }
      ]
    },
    {
      "cell_type": "code",
      "source": [
        "a3[1]"
      ],
      "metadata": {
        "colab": {
          "base_uri": "https://localhost:8080/"
        },
        "id": "XqHQJ5OILnzZ",
        "outputId": "d62c2fba-bf2e-4ba0-cbbc-4faf3566df01"
      },
      "execution_count": 117,
      "outputs": [
        {
          "output_type": "execute_result",
          "data": {
            "text/plain": [
              "array([[20, 21, 22, 23, 24],\n",
              "       [25, 26, 27, 28, 29],\n",
              "       [30, 31, 32, 33, 34],\n",
              "       [35, 36, 37, 38, 39]])"
            ]
          },
          "metadata": {},
          "execution_count": 117
        }
      ]
    },
    {
      "cell_type": "code",
      "source": [
        "a3[0::2]"
      ],
      "metadata": {
        "colab": {
          "base_uri": "https://localhost:8080/"
        },
        "id": "JVe2kFKiLn3A",
        "outputId": "da66ca17-75eb-43af-bd2a-779af9dc9ec6"
      },
      "execution_count": 118,
      "outputs": [
        {
          "output_type": "execute_result",
          "data": {
            "text/plain": [
              "array([[[ 0,  1,  2,  3,  4],\n",
              "        [ 5,  6,  7,  8,  9],\n",
              "        [10, 11, 12, 13, 14],\n",
              "        [15, 16, 17, 18, 19]],\n",
              "\n",
              "       [[40, 41, 42, 43, 44],\n",
              "        [45, 46, 47, 48, 49],\n",
              "        [50, 51, 52, 53, 54],\n",
              "        [55, 56, 57, 58, 59]]])"
            ]
          },
          "metadata": {},
          "execution_count": 118
        }
      ]
    },
    {
      "cell_type": "code",
      "source": [
        "a3[0, 1]"
      ],
      "metadata": {
        "colab": {
          "base_uri": "https://localhost:8080/"
        },
        "id": "nRw_j4ehLn6T",
        "outputId": "04008edb-9892-40bc-8190-353770cc957a"
      },
      "execution_count": 120,
      "outputs": [
        {
          "output_type": "execute_result",
          "data": {
            "text/plain": [
              "array([5, 6, 7, 8, 9])"
            ]
          },
          "metadata": {},
          "execution_count": 120
        }
      ]
    },
    {
      "cell_type": "code",
      "source": [
        "a3[1, :, 2]"
      ],
      "metadata": {
        "colab": {
          "base_uri": "https://localhost:8080/"
        },
        "id": "I0v17Qh5Ln9Y",
        "outputId": "62c9780d-af67-465f-fc57-25656e408bf8"
      },
      "execution_count": 121,
      "outputs": [
        {
          "output_type": "execute_result",
          "data": {
            "text/plain": [
              "array([22, 27, 32, 37])"
            ]
          },
          "metadata": {},
          "execution_count": 121
        }
      ]
    },
    {
      "cell_type": "code",
      "source": [
        "a3"
      ],
      "metadata": {
        "colab": {
          "base_uri": "https://localhost:8080/"
        },
        "id": "mGHpV2enLoA9",
        "outputId": "6fe4f19a-b776-4435-f8b7-c739f1c98adc"
      },
      "execution_count": 123,
      "outputs": [
        {
          "output_type": "execute_result",
          "data": {
            "text/plain": [
              "array([[[ 0,  1,  2,  3,  4],\n",
              "        [ 5,  6,  7,  8,  9],\n",
              "        [10, 11, 12, 13, 14],\n",
              "        [15, 16, 17, 18, 19]],\n",
              "\n",
              "       [[20, 21, 22, 23, 24],\n",
              "        [25, 26, 27, 28, 29],\n",
              "        [30, 31, 32, 33, 34],\n",
              "        [35, 36, 37, 38, 39]],\n",
              "\n",
              "       [[40, 41, 42, 43, 44],\n",
              "        [45, 46, 47, 48, 49],\n",
              "        [50, 51, 52, 53, 54],\n",
              "        [55, 56, 57, 58, 59]]])"
            ]
          },
          "metadata": {},
          "execution_count": 123
        }
      ]
    },
    {
      "cell_type": "code",
      "source": [
        "a3[2, 2:, 3:]"
      ],
      "metadata": {
        "colab": {
          "base_uri": "https://localhost:8080/"
        },
        "id": "s-aJKCRvLoEK",
        "outputId": "d4b85a26-2971-4e2b-a812-426518676962"
      },
      "execution_count": 124,
      "outputs": [
        {
          "output_type": "execute_result",
          "data": {
            "text/plain": [
              "array([[53, 54],\n",
              "       [58, 59]])"
            ]
          },
          "metadata": {},
          "execution_count": 124
        }
      ]
    },
    {
      "cell_type": "code",
      "source": [
        "a3[0::2, 0, 0::4]"
      ],
      "metadata": {
        "colab": {
          "base_uri": "https://localhost:8080/"
        },
        "id": "EkkiRygcLoHc",
        "outputId": "fa873ca5-1e16-491e-9f9d-32676fb1a3ed"
      },
      "execution_count": 125,
      "outputs": [
        {
          "output_type": "execute_result",
          "data": {
            "text/plain": [
              "array([[ 0,  4],\n",
              "       [40, 44]])"
            ]
          },
          "metadata": {},
          "execution_count": 125
        }
      ]
    },
    {
      "cell_type": "code",
      "source": [],
      "metadata": {
        "id": "1uN8swRILoZP"
      },
      "execution_count": null,
      "outputs": []
    },
    {
      "cell_type": "code",
      "source": [],
      "metadata": {
        "id": "MzovTNkPrhed"
      },
      "execution_count": null,
      "outputs": []
    },
    {
      "cell_type": "markdown",
      "source": [
        "### Iterating"
      ],
      "metadata": {
        "id": "dUv9qM1yuIKJ"
      }
    },
    {
      "cell_type": "code",
      "source": [
        "a1"
      ],
      "metadata": {
        "colab": {
          "base_uri": "https://localhost:8080/"
        },
        "id": "R9BPcc6lrkvh",
        "outputId": "71d78f0b-6f57-4604-81c8-e7a7ad2db775"
      },
      "execution_count": 127,
      "outputs": [
        {
          "output_type": "execute_result",
          "data": {
            "text/plain": [
              "array([0, 1, 2, 3, 4, 5, 6, 7, 8, 9])"
            ]
          },
          "metadata": {},
          "execution_count": 127
        }
      ]
    },
    {
      "cell_type": "code",
      "source": [
        "for val in a1:\n",
        "  print(val, end=\" \")"
      ],
      "metadata": {
        "id": "lNgaCad6uKhm",
        "colab": {
          "base_uri": "https://localhost:8080/"
        },
        "outputId": "6b4d79b1-d257-44a8-d0a3-220ab4021f1c"
      },
      "execution_count": 129,
      "outputs": [
        {
          "output_type": "stream",
          "name": "stdout",
          "text": [
            "0 1 2 3 4 5 6 7 8 9 "
          ]
        }
      ]
    },
    {
      "cell_type": "code",
      "source": [
        "a2, a2.ndim, a2.shape"
      ],
      "metadata": {
        "id": "jNIsE0YFM6ZN",
        "colab": {
          "base_uri": "https://localhost:8080/"
        },
        "outputId": "4aba39ad-f97b-4678-c879-957d011aa7a3"
      },
      "execution_count": 133,
      "outputs": [
        {
          "output_type": "execute_result",
          "data": {
            "text/plain": [
              "(array([[ 0,  1,  2,  3],\n",
              "        [ 4,  5,  6,  7],\n",
              "        [ 8,  9, 10, 11]]),\n",
              " 2,\n",
              " (3, 4))"
            ]
          },
          "metadata": {},
          "execution_count": 133
        }
      ]
    },
    {
      "cell_type": "code",
      "source": [
        "for val in a2:\n",
        "    print(val)"
      ],
      "metadata": {
        "id": "B2Hk-zAONHTY",
        "colab": {
          "base_uri": "https://localhost:8080/"
        },
        "outputId": "7202929f-7475-4593-c5b9-0680e45c0344"
      },
      "execution_count": 134,
      "outputs": [
        {
          "output_type": "stream",
          "name": "stdout",
          "text": [
            "[0 1 2 3]\n",
            "[4 5 6 7]\n",
            "[ 8  9 10 11]\n"
          ]
        }
      ]
    },
    {
      "cell_type": "code",
      "source": [
        "a3, a3.ndim, a3.shape"
      ],
      "metadata": {
        "id": "8hfuC98qM-hC",
        "colab": {
          "base_uri": "https://localhost:8080/"
        },
        "outputId": "0511858a-1462-4861-829b-1ac6a28465b6"
      },
      "execution_count": 135,
      "outputs": [
        {
          "output_type": "execute_result",
          "data": {
            "text/plain": [
              "(array([[[ 0,  1,  2,  3,  4],\n",
              "         [ 5,  6,  7,  8,  9],\n",
              "         [10, 11, 12, 13, 14],\n",
              "         [15, 16, 17, 18, 19]],\n",
              " \n",
              "        [[20, 21, 22, 23, 24],\n",
              "         [25, 26, 27, 28, 29],\n",
              "         [30, 31, 32, 33, 34],\n",
              "         [35, 36, 37, 38, 39]],\n",
              " \n",
              "        [[40, 41, 42, 43, 44],\n",
              "         [45, 46, 47, 48, 49],\n",
              "         [50, 51, 52, 53, 54],\n",
              "         [55, 56, 57, 58, 59]]]),\n",
              " 3,\n",
              " (3, 4, 5))"
            ]
          },
          "metadata": {},
          "execution_count": 135
        }
      ]
    },
    {
      "cell_type": "code",
      "source": [
        "for val in a3:\n",
        "  print(val)"
      ],
      "metadata": {
        "id": "DsYEnw2ONOIy",
        "colab": {
          "base_uri": "https://localhost:8080/"
        },
        "outputId": "d7ecd729-6b01-4157-991d-b978982cee6f"
      },
      "execution_count": 136,
      "outputs": [
        {
          "output_type": "stream",
          "name": "stdout",
          "text": [
            "[[ 0  1  2  3  4]\n",
            " [ 5  6  7  8  9]\n",
            " [10 11 12 13 14]\n",
            " [15 16 17 18 19]]\n",
            "[[20 21 22 23 24]\n",
            " [25 26 27 28 29]\n",
            " [30 31 32 33 34]\n",
            " [35 36 37 38 39]]\n",
            "[[40 41 42 43 44]\n",
            " [45 46 47 48 49]\n",
            " [50 51 52 53 54]\n",
            " [55 56 57 58 59]]\n"
          ]
        }
      ]
    },
    {
      "cell_type": "code",
      "source": [
        "for i in np.nditer(a3):\n",
        "  print(i, end=\" \")"
      ],
      "metadata": {
        "id": "IuRJ1QiRNZRM",
        "colab": {
          "base_uri": "https://localhost:8080/"
        },
        "outputId": "e2785cba-f85c-4e05-8ef7-64932281a9d7"
      },
      "execution_count": 138,
      "outputs": [
        {
          "output_type": "stream",
          "name": "stdout",
          "text": [
            "0 1 2 3 4 5 6 7 8 9 10 11 12 13 14 15 16 17 18 19 20 21 22 23 24 25 26 27 28 29 30 31 32 33 34 35 36 37 38 39 40 41 42 43 44 45 46 47 48 49 50 51 52 53 54 55 56 57 58 59 "
          ]
        }
      ]
    },
    {
      "cell_type": "markdown",
      "source": [
        "### Reshaping"
      ],
      "metadata": {
        "id": "ZSS6AF_luNc-"
      }
    },
    {
      "cell_type": "code",
      "source": [
        "\"\"\" reshape operations \"\"\""
      ],
      "metadata": {
        "id": "NeXLsnBb9ko7",
        "colab": {
          "base_uri": "https://localhost:8080/",
          "height": 37
        },
        "outputId": "1db0330f-60a9-43cb-c3a2-80dbf7ce3ba2"
      },
      "execution_count": 142,
      "outputs": [
        {
          "output_type": "execute_result",
          "data": {
            "text/plain": [
              "' reshape operations '"
            ],
            "application/vnd.google.colaboratory.intrinsic+json": {
              "type": "string"
            }
          },
          "metadata": {},
          "execution_count": 142
        }
      ]
    },
    {
      "cell_type": "code",
      "source": [
        "# Transpose\n",
        "for elem in [a2, np.transpose(a2), a2.T]:\n",
        "    print(elem, end=\"\\n\\n\")"
      ],
      "metadata": {
        "id": "DBIaUE8duQDz",
        "colab": {
          "base_uri": "https://localhost:8080/"
        },
        "outputId": "5239fe81-ba17-447d-fe78-d920f4fc0849"
      },
      "execution_count": 141,
      "outputs": [
        {
          "output_type": "stream",
          "name": "stdout",
          "text": [
            "[[ 0  1  2  3]\n",
            " [ 4  5  6  7]\n",
            " [ 8  9 10 11]]\n",
            "\n",
            "[[ 0  4  8]\n",
            " [ 1  5  9]\n",
            " [ 2  6 10]\n",
            " [ 3  7 11]]\n",
            "\n",
            "[[ 0  4  8]\n",
            " [ 1  5  9]\n",
            " [ 2  6 10]\n",
            " [ 3  7 11]]\n",
            "\n"
          ]
        }
      ]
    },
    {
      "cell_type": "code",
      "source": [
        "# ravel\n",
        "for elem in [a2, a2.ravel()]:\n",
        "    print(elem, end=\"\\n\\n\")\n",
        "for elem in [a3, a3.ravel()]:\n",
        "    print(elem, end=\"\\n\\n\")"
      ],
      "metadata": {
        "id": "IULUNn5OuQMT",
        "colab": {
          "base_uri": "https://localhost:8080/"
        },
        "outputId": "72ae1f19-74e6-4de8-e60e-3b6ab5ab52fb"
      },
      "execution_count": 144,
      "outputs": [
        {
          "output_type": "stream",
          "name": "stdout",
          "text": [
            "[[ 0  1  2  3]\n",
            " [ 4  5  6  7]\n",
            " [ 8  9 10 11]]\n",
            "\n",
            "[ 0  1  2  3  4  5  6  7  8  9 10 11]\n",
            "\n",
            "[[[ 0  1  2  3  4]\n",
            "  [ 5  6  7  8  9]\n",
            "  [10 11 12 13 14]\n",
            "  [15 16 17 18 19]]\n",
            "\n",
            " [[20 21 22 23 24]\n",
            "  [25 26 27 28 29]\n",
            "  [30 31 32 33 34]\n",
            "  [35 36 37 38 39]]\n",
            "\n",
            " [[40 41 42 43 44]\n",
            "  [45 46 47 48 49]\n",
            "  [50 51 52 53 54]\n",
            "  [55 56 57 58 59]]]\n",
            "\n",
            "[ 0  1  2  3  4  5  6  7  8  9 10 11 12 13 14 15 16 17 18 19 20 21 22 23\n",
            " 24 25 26 27 28 29 30 31 32 33 34 35 36 37 38 39 40 41 42 43 44 45 46 47\n",
            " 48 49 50 51 52 53 54 55 56 57 58 59]\n",
            "\n"
          ]
        }
      ]
    },
    {
      "cell_type": "markdown",
      "source": [
        "### Stacking"
      ],
      "metadata": {
        "id": "ouKcJQ5EuUQC"
      }
    },
    {
      "cell_type": "code",
      "source": [
        "# horizontal stacking\n",
        "a4 = np.arange(12).reshape(3,4)\n",
        "a5 = np.arange(12,24).reshape(3,4)\n",
        "for element in [a4, a5]:\n",
        "    print(element, element.ndim, element.shape, end=\"\\n\\n\")"
      ],
      "metadata": {
        "id": "HHSY1njTuXLi",
        "colab": {
          "base_uri": "https://localhost:8080/"
        },
        "outputId": "925fcbf0-8c89-4e32-b360-9e6d18ab3ff3"
      },
      "execution_count": 147,
      "outputs": [
        {
          "output_type": "stream",
          "name": "stdout",
          "text": [
            "[[ 0  1  2  3]\n",
            " [ 4  5  6  7]\n",
            " [ 8  9 10 11]] 2 (3, 4)\n",
            "\n",
            "[[12 13 14 15]\n",
            " [16 17 18 19]\n",
            " [20 21 22 23]] 2 (3, 4)\n",
            "\n"
          ]
        }
      ]
    },
    {
      "cell_type": "code",
      "source": [
        "# Horizozntal Stacking\n",
        "np.hstack((a4,a5))"
      ],
      "metadata": {
        "id": "ne9uXt3yPKez",
        "colab": {
          "base_uri": "https://localhost:8080/"
        },
        "outputId": "4466677c-4c3f-449b-ebfe-affdd91a725e"
      },
      "execution_count": 148,
      "outputs": [
        {
          "output_type": "execute_result",
          "data": {
            "text/plain": [
              "array([[ 0,  1,  2,  3, 12, 13, 14, 15],\n",
              "       [ 4,  5,  6,  7, 16, 17, 18, 19],\n",
              "       [ 8,  9, 10, 11, 20, 21, 22, 23]])"
            ]
          },
          "metadata": {},
          "execution_count": 148
        }
      ]
    },
    {
      "cell_type": "code",
      "source": [
        "# Vertical Stacking\n",
        "np.vstack((a4,a5))"
      ],
      "metadata": {
        "id": "F6bFFNKuuZW5",
        "colab": {
          "base_uri": "https://localhost:8080/"
        },
        "outputId": "400233f0-d58f-443e-c152-ca877aa29712"
      },
      "execution_count": 149,
      "outputs": [
        {
          "output_type": "execute_result",
          "data": {
            "text/plain": [
              "array([[ 0,  1,  2,  3],\n",
              "       [ 4,  5,  6,  7],\n",
              "       [ 8,  9, 10, 11],\n",
              "       [12, 13, 14, 15],\n",
              "       [16, 17, 18, 19],\n",
              "       [20, 21, 22, 23]])"
            ]
          },
          "metadata": {},
          "execution_count": 149
        }
      ]
    },
    {
      "cell_type": "markdown",
      "source": [
        "### Splitting"
      ],
      "metadata": {
        "id": "kaY006uXucF5"
      }
    },
    {
      "cell_type": "code",
      "source": [
        "# horizontal splitting\n",
        "a6 = np.hstack((a4,a5))\n",
        "a6"
      ],
      "metadata": {
        "id": "kgbl6wkD9ll6",
        "colab": {
          "base_uri": "https://localhost:8080/"
        },
        "outputId": "a21ab6d5-a741-403b-83ae-efeed41d2efd"
      },
      "execution_count": 151,
      "outputs": [
        {
          "output_type": "execute_result",
          "data": {
            "text/plain": [
              "array([[ 0,  1,  2,  3, 12, 13, 14, 15],\n",
              "       [ 4,  5,  6,  7, 16, 17, 18, 19],\n",
              "       [ 8,  9, 10, 11, 20, 21, 22, 23]])"
            ]
          },
          "metadata": {},
          "execution_count": 151
        }
      ]
    },
    {
      "cell_type": "code",
      "source": [
        "np.hsplit(a6,2)"
      ],
      "metadata": {
        "id": "FIfZM5BsQE5l",
        "colab": {
          "base_uri": "https://localhost:8080/"
        },
        "outputId": "e4375d8a-bd92-4535-9471-0817e1d865d6"
      },
      "execution_count": 153,
      "outputs": [
        {
          "output_type": "execute_result",
          "data": {
            "text/plain": [
              "[array([[ 0,  1,  2,  3],\n",
              "        [ 4,  5,  6,  7],\n",
              "        [ 8,  9, 10, 11]]),\n",
              " array([[12, 13, 14, 15],\n",
              "        [16, 17, 18, 19],\n",
              "        [20, 21, 22, 23]])]"
            ]
          },
          "metadata": {},
          "execution_count": 153
        }
      ]
    },
    {
      "cell_type": "code",
      "source": [
        "np.hsplit(a6,3)"
      ],
      "metadata": {
        "colab": {
          "base_uri": "https://localhost:8080/",
          "height": 286
        },
        "id": "-gz-RzMsvyUY",
        "outputId": "0764aad9-de44-44f5-c3af-25a1bdad1552"
      },
      "execution_count": 154,
      "outputs": [
        {
          "output_type": "error",
          "ename": "ValueError",
          "evalue": "array split does not result in an equal division",
          "traceback": [
            "\u001b[0;31m---------------------------------------------------------------------------\u001b[0m",
            "\u001b[0;31mValueError\u001b[0m                                Traceback (most recent call last)",
            "\u001b[0;32m<ipython-input-154-2f0f93e7a23e>\u001b[0m in \u001b[0;36m<cell line: 1>\u001b[0;34m()\u001b[0m\n\u001b[0;32m----> 1\u001b[0;31m \u001b[0mnp\u001b[0m\u001b[0;34m.\u001b[0m\u001b[0mhsplit\u001b[0m\u001b[0;34m(\u001b[0m\u001b[0ma6\u001b[0m\u001b[0;34m,\u001b[0m\u001b[0;36m3\u001b[0m\u001b[0;34m)\u001b[0m\u001b[0;34m\u001b[0m\u001b[0;34m\u001b[0m\u001b[0m\n\u001b[0m",
            "\u001b[0;32m/usr/local/lib/python3.10/dist-packages/numpy/lib/shape_base.py\u001b[0m in \u001b[0;36mhsplit\u001b[0;34m(ary, indices_or_sections)\u001b[0m\n\u001b[1;32m    936\u001b[0m         \u001b[0;32mraise\u001b[0m \u001b[0mValueError\u001b[0m\u001b[0;34m(\u001b[0m\u001b[0;34m'hsplit only works on arrays of 1 or more dimensions'\u001b[0m\u001b[0;34m)\u001b[0m\u001b[0;34m\u001b[0m\u001b[0;34m\u001b[0m\u001b[0m\n\u001b[1;32m    937\u001b[0m     \u001b[0;32mif\u001b[0m \u001b[0mary\u001b[0m\u001b[0;34m.\u001b[0m\u001b[0mndim\u001b[0m \u001b[0;34m>\u001b[0m \u001b[0;36m1\u001b[0m\u001b[0;34m:\u001b[0m\u001b[0;34m\u001b[0m\u001b[0;34m\u001b[0m\u001b[0m\n\u001b[0;32m--> 938\u001b[0;31m         \u001b[0;32mreturn\u001b[0m \u001b[0msplit\u001b[0m\u001b[0;34m(\u001b[0m\u001b[0mary\u001b[0m\u001b[0;34m,\u001b[0m \u001b[0mindices_or_sections\u001b[0m\u001b[0;34m,\u001b[0m \u001b[0;36m1\u001b[0m\u001b[0;34m)\u001b[0m\u001b[0;34m\u001b[0m\u001b[0;34m\u001b[0m\u001b[0m\n\u001b[0m\u001b[1;32m    939\u001b[0m     \u001b[0;32melse\u001b[0m\u001b[0;34m:\u001b[0m\u001b[0;34m\u001b[0m\u001b[0;34m\u001b[0m\u001b[0m\n\u001b[1;32m    940\u001b[0m         \u001b[0;32mreturn\u001b[0m \u001b[0msplit\u001b[0m\u001b[0;34m(\u001b[0m\u001b[0mary\u001b[0m\u001b[0;34m,\u001b[0m \u001b[0mindices_or_sections\u001b[0m\u001b[0;34m,\u001b[0m \u001b[0;36m0\u001b[0m\u001b[0;34m)\u001b[0m\u001b[0;34m\u001b[0m\u001b[0;34m\u001b[0m\u001b[0m\n",
            "\u001b[0;32m/usr/local/lib/python3.10/dist-packages/numpy/lib/shape_base.py\u001b[0m in \u001b[0;36msplit\u001b[0;34m(ary, indices_or_sections, axis)\u001b[0m\n\u001b[1;32m    862\u001b[0m         \u001b[0mN\u001b[0m \u001b[0;34m=\u001b[0m \u001b[0mary\u001b[0m\u001b[0;34m.\u001b[0m\u001b[0mshape\u001b[0m\u001b[0;34m[\u001b[0m\u001b[0maxis\u001b[0m\u001b[0;34m]\u001b[0m\u001b[0;34m\u001b[0m\u001b[0;34m\u001b[0m\u001b[0m\n\u001b[1;32m    863\u001b[0m         \u001b[0;32mif\u001b[0m \u001b[0mN\u001b[0m \u001b[0;34m%\u001b[0m \u001b[0msections\u001b[0m\u001b[0;34m:\u001b[0m\u001b[0;34m\u001b[0m\u001b[0;34m\u001b[0m\u001b[0m\n\u001b[0;32m--> 864\u001b[0;31m             raise ValueError(\n\u001b[0m\u001b[1;32m    865\u001b[0m                 'array split does not result in an equal division') from None\n\u001b[1;32m    866\u001b[0m     \u001b[0;32mreturn\u001b[0m \u001b[0marray_split\u001b[0m\u001b[0;34m(\u001b[0m\u001b[0mary\u001b[0m\u001b[0;34m,\u001b[0m \u001b[0mindices_or_sections\u001b[0m\u001b[0;34m,\u001b[0m \u001b[0maxis\u001b[0m\u001b[0;34m)\u001b[0m\u001b[0;34m\u001b[0m\u001b[0;34m\u001b[0m\u001b[0m\n",
            "\u001b[0;31mValueError\u001b[0m: array split does not result in an equal division"
          ]
        }
      ]
    },
    {
      "cell_type": "code",
      "source": [
        "# vertical splitting"
      ],
      "metadata": {
        "id": "nfhKoruOuhK-"
      },
      "execution_count": null,
      "outputs": []
    },
    {
      "cell_type": "code",
      "source": [
        "a7 = np.vstack((a4,a5))\n",
        "a7"
      ],
      "metadata": {
        "id": "qJ2xEBFUuieB",
        "colab": {
          "base_uri": "https://localhost:8080/"
        },
        "outputId": "4a6881c2-49b3-4847-ae11-a85b23fd7f75"
      },
      "execution_count": 156,
      "outputs": [
        {
          "output_type": "execute_result",
          "data": {
            "text/plain": [
              "array([[ 0,  1,  2,  3],\n",
              "       [ 4,  5,  6,  7],\n",
              "       [ 8,  9, 10, 11],\n",
              "       [12, 13, 14, 15],\n",
              "       [16, 17, 18, 19],\n",
              "       [20, 21, 22, 23]])"
            ]
          },
          "metadata": {},
          "execution_count": 156
        }
      ]
    },
    {
      "cell_type": "code",
      "source": [
        "np.vsplit(a7,2)"
      ],
      "metadata": {
        "id": "1wxcLLR_QWVu",
        "colab": {
          "base_uri": "https://localhost:8080/"
        },
        "outputId": "c175ace4-7437-409e-816a-304974e8bbd6"
      },
      "execution_count": 157,
      "outputs": [
        {
          "output_type": "execute_result",
          "data": {
            "text/plain": [
              "[array([[ 0,  1,  2,  3],\n",
              "        [ 4,  5,  6,  7],\n",
              "        [ 8,  9, 10, 11]]),\n",
              " array([[12, 13, 14, 15],\n",
              "        [16, 17, 18, 19],\n",
              "        [20, 21, 22, 23]])]"
            ]
          },
          "metadata": {},
          "execution_count": 157
        }
      ]
    },
    {
      "cell_type": "code",
      "source": [
        "np.vsplit(a7,3)"
      ],
      "metadata": {
        "id": "E_EVrYA7QadG",
        "colab": {
          "base_uri": "https://localhost:8080/"
        },
        "outputId": "e93f2f42-e22b-49b9-b20e-7d622e1fd1d0"
      },
      "execution_count": 158,
      "outputs": [
        {
          "output_type": "execute_result",
          "data": {
            "text/plain": [
              "[array([[0, 1, 2, 3],\n",
              "        [4, 5, 6, 7]]),\n",
              " array([[ 8,  9, 10, 11],\n",
              "        [12, 13, 14, 15]]),\n",
              " array([[16, 17, 18, 19],\n",
              "        [20, 21, 22, 23]])]"
            ]
          },
          "metadata": {},
          "execution_count": 158
        }
      ]
    },
    {
      "cell_type": "code",
      "source": [
        "np.vsplit(a7,4)"
      ],
      "metadata": {
        "colab": {
          "base_uri": "https://localhost:8080/",
          "height": 286
        },
        "id": "Ym-RHL0nwHe9",
        "outputId": "a55d887a-b12f-448d-a367-9ce2fe9c9873"
      },
      "execution_count": 159,
      "outputs": [
        {
          "output_type": "error",
          "ename": "ValueError",
          "evalue": "array split does not result in an equal division",
          "traceback": [
            "\u001b[0;31m---------------------------------------------------------------------------\u001b[0m",
            "\u001b[0;31mValueError\u001b[0m                                Traceback (most recent call last)",
            "\u001b[0;32m<ipython-input-159-c2f5e0c7d053>\u001b[0m in \u001b[0;36m<cell line: 1>\u001b[0;34m()\u001b[0m\n\u001b[0;32m----> 1\u001b[0;31m \u001b[0mnp\u001b[0m\u001b[0;34m.\u001b[0m\u001b[0mvsplit\u001b[0m\u001b[0;34m(\u001b[0m\u001b[0ma7\u001b[0m\u001b[0;34m,\u001b[0m\u001b[0;36m4\u001b[0m\u001b[0;34m)\u001b[0m\u001b[0;34m\u001b[0m\u001b[0;34m\u001b[0m\u001b[0m\n\u001b[0m",
            "\u001b[0;32m/usr/local/lib/python3.10/dist-packages/numpy/lib/shape_base.py\u001b[0m in \u001b[0;36mvsplit\u001b[0;34m(ary, indices_or_sections)\u001b[0m\n\u001b[1;32m    987\u001b[0m     \u001b[0;32mif\u001b[0m \u001b[0m_nx\u001b[0m\u001b[0;34m.\u001b[0m\u001b[0mndim\u001b[0m\u001b[0;34m(\u001b[0m\u001b[0mary\u001b[0m\u001b[0;34m)\u001b[0m \u001b[0;34m<\u001b[0m \u001b[0;36m2\u001b[0m\u001b[0;34m:\u001b[0m\u001b[0;34m\u001b[0m\u001b[0;34m\u001b[0m\u001b[0m\n\u001b[1;32m    988\u001b[0m         \u001b[0;32mraise\u001b[0m \u001b[0mValueError\u001b[0m\u001b[0;34m(\u001b[0m\u001b[0;34m'vsplit only works on arrays of 2 or more dimensions'\u001b[0m\u001b[0;34m)\u001b[0m\u001b[0;34m\u001b[0m\u001b[0;34m\u001b[0m\u001b[0m\n\u001b[0;32m--> 989\u001b[0;31m     \u001b[0;32mreturn\u001b[0m \u001b[0msplit\u001b[0m\u001b[0;34m(\u001b[0m\u001b[0mary\u001b[0m\u001b[0;34m,\u001b[0m \u001b[0mindices_or_sections\u001b[0m\u001b[0;34m,\u001b[0m \u001b[0;36m0\u001b[0m\u001b[0;34m)\u001b[0m\u001b[0;34m\u001b[0m\u001b[0;34m\u001b[0m\u001b[0m\n\u001b[0m\u001b[1;32m    990\u001b[0m \u001b[0;34m\u001b[0m\u001b[0m\n\u001b[1;32m    991\u001b[0m \u001b[0;34m\u001b[0m\u001b[0m\n",
            "\u001b[0;32m/usr/local/lib/python3.10/dist-packages/numpy/lib/shape_base.py\u001b[0m in \u001b[0;36msplit\u001b[0;34m(ary, indices_or_sections, axis)\u001b[0m\n\u001b[1;32m    862\u001b[0m         \u001b[0mN\u001b[0m \u001b[0;34m=\u001b[0m \u001b[0mary\u001b[0m\u001b[0;34m.\u001b[0m\u001b[0mshape\u001b[0m\u001b[0;34m[\u001b[0m\u001b[0maxis\u001b[0m\u001b[0;34m]\u001b[0m\u001b[0;34m\u001b[0m\u001b[0;34m\u001b[0m\u001b[0m\n\u001b[1;32m    863\u001b[0m         \u001b[0;32mif\u001b[0m \u001b[0mN\u001b[0m \u001b[0;34m%\u001b[0m \u001b[0msections\u001b[0m\u001b[0;34m:\u001b[0m\u001b[0;34m\u001b[0m\u001b[0;34m\u001b[0m\u001b[0m\n\u001b[0;32m--> 864\u001b[0;31m             raise ValueError(\n\u001b[0m\u001b[1;32m    865\u001b[0m                 'array split does not result in an equal division') from None\n\u001b[1;32m    866\u001b[0m     \u001b[0;32mreturn\u001b[0m \u001b[0marray_split\u001b[0m\u001b[0;34m(\u001b[0m\u001b[0mary\u001b[0m\u001b[0;34m,\u001b[0m \u001b[0mindices_or_sections\u001b[0m\u001b[0;34m,\u001b[0m \u001b[0maxis\u001b[0m\u001b[0;34m)\u001b[0m\u001b[0;34m\u001b[0m\u001b[0;34m\u001b[0m\u001b[0m\n",
            "\u001b[0;31mValueError\u001b[0m: array split does not result in an equal division"
          ]
        }
      ]
    }
  ]
}